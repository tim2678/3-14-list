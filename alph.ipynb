{
  "nbformat": 4,
  "nbformat_minor": 0,
  "metadata": {
    "colab": {
      "name": "alph.ipynb",
      "provenance": [],
      "authorship_tag": "ABX9TyO4PKQpQKIngJi3Bwgzclj+",
      "include_colab_link": true
    },
    "kernelspec": {
      "name": "python3",
      "display_name": "Python 3"
    },
    "language_info": {
      "name": "python"
    }
  },
  "cells": [
    {
      "cell_type": "markdown",
      "metadata": {
        "id": "view-in-github",
        "colab_type": "text"
      },
      "source": [
        "<a href=\"https://colab.research.google.com/github/tim2678/3-14-list/blob/main/alph.ipynb\" target=\"_parent\"><img src=\"https://colab.research.google.com/assets/colab-badge.svg\" alt=\"Open In Colab\"/></a>"
      ]
    },
    {
      "cell_type": "code",
      "execution_count": 1,
      "metadata": {
        "id": "4xHVFaxeDDPi"
      },
      "outputs": [],
      "source": [
        "alph=\"abcdefghijklmnopqrstuvwxyz\""
      ]
    },
    {
      "cell_type": "markdown",
      "source": [
        "01234567890123456789012345"
      ],
      "metadata": {
        "id": "_CbJEe4lF3io"
      }
    },
    {
      "cell_type": "code",
      "source": [
        "alph[3:15]"
      ],
      "metadata": {
        "colab": {
          "base_uri": "https://localhost:8080/",
          "height": 35
        },
        "id": "x58Php6ODeNh",
        "outputId": "38ad0e0f-acbf-4479-e91d-62b99fa5ea2b"
      },
      "execution_count": 2,
      "outputs": [
        {
          "output_type": "execute_result",
          "data": {
            "text/plain": [
              "'defghijklmno'"
            ],
            "application/vnd.google.colaboratory.intrinsic+json": {
              "type": "string"
            }
          },
          "metadata": {},
          "execution_count": 2
        }
      ]
    },
    {
      "cell_type": "markdown",
      "source": [
        "第3個到第14個"
      ],
      "metadata": {
        "id": "sp6DOOfxGCFn"
      }
    },
    {
      "cell_type": "code",
      "source": [
        "alph[3:15:3]"
      ],
      "metadata": {
        "colab": {
          "base_uri": "https://localhost:8080/",
          "height": 35
        },
        "id": "4J9i091KDkXI",
        "outputId": "57abd85b-40ad-407a-ffb9-0613b6afd265"
      },
      "execution_count": 3,
      "outputs": [
        {
          "output_type": "execute_result",
          "data": {
            "text/plain": [
              "'dgjm'"
            ],
            "application/vnd.google.colaboratory.intrinsic+json": {
              "type": "string"
            }
          },
          "metadata": {},
          "execution_count": 3
        }
      ]
    },
    {
      "cell_type": "markdown",
      "source": [
        "第3個到第14個之間每間格3個取1個"
      ],
      "metadata": {
        "id": "MsIynkIVGKDP"
      }
    },
    {
      "cell_type": "code",
      "source": [
        "alph[15:3:-3]"
      ],
      "metadata": {
        "colab": {
          "base_uri": "https://localhost:8080/",
          "height": 35
        },
        "id": "wLyRQmswDo8h",
        "outputId": "08a7bf4b-5272-499b-f8b5-3b75a2437cbd"
      },
      "execution_count": 4,
      "outputs": [
        {
          "output_type": "execute_result",
          "data": {
            "text/plain": [
              "'pmjg'"
            ],
            "application/vnd.google.colaboratory.intrinsic+json": {
              "type": "string"
            }
          },
          "metadata": {},
          "execution_count": 4
        }
      ]
    },
    {
      "cell_type": "markdown",
      "source": [
        "第15個到第4個之間每間格3個取1個"
      ],
      "metadata": {
        "id": "v_B4lSVRHQpo"
      }
    },
    {
      "cell_type": "code",
      "source": [
        "alph[::-3]"
      ],
      "metadata": {
        "colab": {
          "base_uri": "https://localhost:8080/",
          "height": 35
        },
        "id": "eqJtsqdrD2ag",
        "outputId": "d32d2871-1a39-4c77-de0d-2d7ffcbacecd"
      },
      "execution_count": 5,
      "outputs": [
        {
          "output_type": "execute_result",
          "data": {
            "text/plain": [
              "'zwtqnkheb'"
            ],
            "application/vnd.google.colaboratory.intrinsic+json": {
              "type": "string"
            }
          },
          "metadata": {},
          "execution_count": 5
        }
      ]
    },
    {
      "cell_type": "markdown",
      "source": [
        "最後1個往前算 每3個取1個"
      ],
      "metadata": {
        "id": "CK9y_jZVHb8H"
      }
    },
    {
      "cell_type": "code",
      "source": [
        "alph[3:15:-1]"
      ],
      "metadata": {
        "colab": {
          "base_uri": "https://localhost:8080/",
          "height": 35
        },
        "id": "6-VoKKFlD6_4",
        "outputId": "c71d82a3-1c27-47d1-8a63-3a88586b7eb3"
      },
      "execution_count": 7,
      "outputs": [
        {
          "output_type": "execute_result",
          "data": {
            "text/plain": [
              "''"
            ],
            "application/vnd.google.colaboratory.intrinsic+json": {
              "type": "string"
            }
          },
          "metadata": {},
          "execution_count": 7
        }
      ]
    },
    {
      "cell_type": "markdown",
      "source": [
        "區間已經設定在第3個到第14個了，所以沒辦法往前取"
      ],
      "metadata": {
        "id": "aVEnsJSKHuPO"
      }
    }
  ]
}